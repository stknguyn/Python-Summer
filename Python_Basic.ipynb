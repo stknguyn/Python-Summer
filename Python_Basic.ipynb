{
 "cells": [
  {
   "cell_type": "markdown",
   "metadata": {},
   "source": [
    "Question 1:"
   ]
  },
  {
   "cell_type": "code",
   "execution_count": 5,
   "metadata": {},
   "outputs": [
    {
     "name": "stdout",
     "output_type": "stream",
     "text": [
      "The perimeter of the rectangle is: 90.82\n",
      "The area of the rectangle is: 405.16\n"
     ]
    }
   ],
   "source": [
    "def calculate_perimeter(width, height):\n",
    "    return 2 * (width + height)\n",
    "\n",
    "def calculate_area(width, height):\n",
    "    return width * height\n",
    "\n",
    "width = float(input(\"Enter the width of the rectangle: \"))\n",
    "height = float(input(\"Enter the height of the rectangle: \"))\n",
    "\n",
    "perimeter = calculate_perimeter(width, height)\n",
    "area = calculate_area(width, height)\n",
    "\n",
    "print(f\"The perimeter of the rectangle is: {perimeter:.2f}\")\n",
    "print(f\"The area of the rectangle is: {area:.2f}\")\n"
   ]
  },
  {
   "cell_type": "markdown",
   "metadata": {},
   "source": [
    "Question 2:"
   ]
  },
  {
   "cell_type": "code",
   "execution_count": 6,
   "metadata": {},
   "outputs": [
    {
     "name": "stdout",
     "output_type": "stream",
     "text": [
      "12.0 cm is equal to 1.20 dm\n",
      "12.0 cm is equal to 4.72 inches\n"
     ]
    }
   ],
   "source": [
    "def cm_to_dm(cm):\n",
    "    return cm / 10\n",
    "\n",
    "def cm_to_in(cm):\n",
    "    return cm / 2.54\n",
    "\n",
    "cm = float(input(\"Enter the length in centimeters: \"))\n",
    "\n",
    "dm = cm_to_dm(cm)\n",
    "inch = cm_to_in(cm)\n",
    "\n",
    "print(f\"{cm} cm is equal to {dm:.2f} dm\")\n",
    "print(f\"{cm} cm is equal to {inch:.2f} inches\")"
   ]
  },
  {
   "cell_type": "markdown",
   "metadata": {},
   "source": [
    "Question 3:"
   ]
  },
  {
   "cell_type": "code",
   "execution_count": 31,
   "metadata": {},
   "outputs": [
    {
     "name": "stdout",
     "output_type": "stream",
     "text": [
      "Random number: 796\n",
      "Number has 3 digits\n"
     ]
    }
   ],
   "source": [
    "import random\n",
    "def get_random_num():\n",
    "    return random.randint(1, 999)\n",
    "def check_num_digit(num):\n",
    "    digit = len(str(num))\n",
    "    if digit == 3:\n",
    "        print(\"Number has 3 digits\")\n",
    "    elif digit == 2:\n",
    "        print(\"Number has 2 digits\")\n",
    "    else:\n",
    "        print(\"Number has 1 digit\")\n",
    "number = get_random_num()\n",
    "\n",
    "print(f\"Random number: {number}\")\n",
    "\n",
    "check_num_digit(number)"
   ]
  },
  {
   "cell_type": "markdown",
   "metadata": {},
   "source": [
    "Question 4:"
   ]
  },
  {
   "cell_type": "code",
   "execution_count": 39,
   "metadata": {},
   "outputs": [
    {
     "name": "stdout",
     "output_type": "stream",
     "text": [
      "Random int number between -100 and 100:  4\n",
      "Number is positive\n",
      "Have to digit? -  False\n"
     ]
    }
   ],
   "source": [
    "def get_random(min, max):\n",
    "    return random.randint(min, max)\n",
    "number = get_random(-100,100)\n",
    "def check_num(number):\n",
    "    if number < 0:\n",
    "        print(\"Number is negative\")\n",
    "    elif number == 0:\n",
    "        print(\"Number is zero\")\n",
    "    else:\n",
    "        print(\"Number is positive\")\n",
    "def have_two_digit(numbers):\n",
    "    if (len(str(number)) == 2):\n",
    "        return True\n",
    "    else:\n",
    "        return False\n",
    "print(\"Random int number between -100 and 100: \", number)\n",
    "check_num(number)\n",
    "print(\"Have to digit? - \", have_two_digit(number))\n"
   ]
  },
  {
   "cell_type": "markdown",
   "metadata": {},
   "source": [
    "Question 5:"
   ]
  },
  {
   "cell_type": "code",
   "execution_count": 43,
   "metadata": {},
   "outputs": [
    {
     "name": "stdout",
     "output_type": "stream",
     "text": [
      "Random number in range [10, 150]: 85\n",
      "Normalized value in range [0, 1]: 0.54\n"
     ]
    }
   ],
   "source": [
    "import random\n",
    "\n",
    "def normalize(value, min_val, max_val):\n",
    "    return (value - min_val) / (max_val - min_val)\n",
    "\n",
    "min_range = 10\n",
    "max_range = 150\n",
    "\n",
    "random_number = random.randint(min_range, max_range)\n",
    "normalized_value = normalize(random_number, min_range, max_range)\n",
    "\n",
    "print(f\"Random number in range [10, 150]: {random_number}\")\n",
    "print(f\"Normalized value in range [0, 1]: {normalized_value:.2f}\")"
   ]
  },
  {
   "cell_type": "markdown",
   "metadata": {},
   "source": [
    "Question 6:"
   ]
  },
  {
   "cell_type": "code",
   "execution_count": 45,
   "metadata": {},
   "outputs": [
    {
     "name": "stdout",
     "output_type": "stream",
     "text": [
      "The angle between the hour and minute hands is 126.00 degrees.\n",
      "The angle between the hour and minute hands is 2.20 radians.\n"
     ]
    }
   ],
   "source": [
    "import math\n",
    "hour = int(input(\"Hour: \"))\n",
    "minute = int(input(\"Minute: \"))\n",
    "hour  %= 12\n",
    "minute %= 60\n",
    "#calculate angle between hour and minute hands\n",
    "\n",
    "angle_hour = (hour * 30) + (minute * 0.5)\n",
    "angle_minute = minute * 6\n",
    "\n",
    "#calculate the difference between angles\n",
    "\n",
    "angle_difference = abs(angle_hour - angle_minute)\n",
    "if angle_difference > 180:\n",
    "    angle_difference = 360 - angle_difference\n",
    "\n",
    "print(f\"The angle between the hour and minute hands is {angle_difference:.2f} degrees.\")\n",
    "print(f\"The angle between the hour and minute hands is {(angle_difference/180*math.pi):.2f} radians.\")\n",
    "\n"
   ]
  },
  {
   "cell_type": "markdown",
   "metadata": {},
   "source": [
    "Question 7:"
   ]
  },
  {
   "cell_type": "code",
   "execution_count": 47,
   "metadata": {},
   "outputs": [
    {
     "name": "stdout",
     "output_type": "stream",
     "text": [
      "The solutions to the equation x^2 + 5x + 6 = 0 are -2.00+0.00j and -3.00+0.00j\n"
     ]
    }
   ],
   "source": [
    "import cmath\n",
    "\n",
    "a = 1\n",
    "b = 5\n",
    "c = 6\n",
    "\n",
    "d = b**2 - 4*a*c\n",
    "\n",
    "sol1 = (-b + cmath.sqrt(d)) / (2*a)\n",
    "sol2 = (-b - cmath.sqrt(d)) / (2*a)\n",
    "\n",
    "print(f\"The solutions to the equation x^2 + 5x + 6 = 0 are {sol1:.2f} and {sol2:.2f}\")\n"
   ]
  },
  {
   "cell_type": "markdown",
   "metadata": {},
   "source": [
    "Question 8:"
   ]
  },
  {
   "cell_type": "code",
   "execution_count": 51,
   "metadata": {},
   "outputs": [
    {
     "name": "stdout",
     "output_type": "stream",
     "text": [
      "There are 13 words in the string and the indices of numbers are: {'6': 11}\n"
     ]
    }
   ],
   "source": [
    "s = \"Today is Sunday and we don't need to wake up at 6 am\"\n",
    "words = s.split(\" \")\n",
    "position = {}\n",
    "for idx, word in enumerate(words):\n",
    "    if word.isdigit():\n",
    "        position[word] = idx\n",
    "print(f\"There are {len(words)} words in the string and the indices of numbers are: {position}\")\n",
    "\n"
   ]
  },
  {
   "cell_type": "markdown",
   "metadata": {},
   "source": [
    "Question 9:"
   ]
  },
  {
   "cell_type": "code",
   "execution_count": 54,
   "metadata": {},
   "outputs": [
    {
     "name": "stdout",
     "output_type": "stream",
     "text": [
      "================================================================\n",
      "Student Name: Khang\n",
      "Date of Birth: 22\n",
      "java: 1.0\n",
      "c: 2.0\n",
      "ruby: 3.0\n",
      "Average Mark: 2.00\n",
      "================================================================\n"
     ]
    }
   ],
   "source": [
    "subj1 = str(input(\"Name of subject 1: \"))\n",
    "subj2 = str(input(\"Name of subject 2 : \"))\n",
    "subj3 = str(input(\"Name of subject 3 : \"))\n",
    "subj1_mark = float(input(f\"{subj1}: \"))\n",
    "subj2_mark = float(input(f\"{subj2}: \"))\n",
    "subj3_mark = float(input(f\"{subj3}: \"))\n",
    "name = str(input(\"Input student name: \"))\n",
    "date_of_birth = str(input(\"Date of birth: \"))\n",
    "#print all this information with avg mark\n",
    "\n",
    "total_marks = subj1_mark + subj2_mark + subj3_mark\n",
    "avg_mark = total_marks / 3\n",
    "print(\"================================================================\")\n",
    "print(f\"Student Name: {name}\")\n",
    "print(f\"Date of Birth: {date_of_birth}\")\n",
    "\n",
    "print(f\"{subj1}: {subj1_mark}\")\n",
    "\n",
    "print(f\"{subj2}: {subj2_mark}\")\n",
    "\n",
    "print(f\"{subj3}: {subj3_mark}\")\n",
    "\n",
    "print(f\"Average Mark: {avg_mark:.2f}\")\n",
    "print(\"================================================================\")\n"
   ]
  },
  {
   "cell_type": "markdown",
   "metadata": {},
   "source": [
    "Question 10:"
   ]
  },
  {
   "cell_type": "code",
   "execution_count": 57,
   "metadata": {},
   "outputs": [
    {
     "name": "stdout",
     "output_type": "stream",
     "text": [
      "Euclidean Distance: 2.83\n",
      "Manhattan Distance: 4.00\n",
      "Cosine Distance: 0.00\n"
     ]
    }
   ],
   "source": [
    "import math\n",
    "\n",
    "def euclidean_distance(x1, y1, x2, y2):\n",
    "    return math.sqrt((x2 - x1)**2 + (y2 - y1)**2)\n",
    "\n",
    "def manhattan_distance(x1, y1, x2, y2):\n",
    "    return abs(x2 - x1) + abs(y2 - y1)\n",
    "\n",
    "def cosine_distance(x1, y1, x2, y2):\n",
    "    dot_product = x1 * x2 + y1 * y2\n",
    "    norm1 = math.sqrt(x1**2 + y1**2)\n",
    "    norm2 = math.sqrt(x2**2 + y2**2)\n",
    "    cosine_similarity = dot_product / (norm1 * norm2)\n",
    "    return 1 - cosine_similarity\n",
    "\n",
    "x1, y1 = map(float, input(\"Enter coordinates of point 1 (x y): \").split())\n",
    "x2, y2 = map(float, input(\"Enter coordinates of point 2 (x y): \").split())\n",
    "\n",
    "euclidean_dist = euclidean_distance(x1, y1, x2, y2)\n",
    "manhattan_dist = manhattan_distance(x1, y1, x2, y2)\n",
    "cosine_dist = cosine_distance(x1, y1, x2, y2)\n",
    "\n",
    "print(f\"Euclidean Distance: {euclidean_dist:.2f}\")\n",
    "print(f\"Manhattan Distance: {manhattan_dist:.2f}\")\n",
    "print(f\"Cosine Distance: {cosine_dist:.2f}\")\n"
   ]
  },
  {
   "cell_type": "markdown",
   "metadata": {},
   "source": [
    "Question 11:"
   ]
  },
  {
   "cell_type": "code",
   "execution_count": 58,
   "metadata": {},
   "outputs": [
    {
     "name": "stdout",
     "output_type": "stream",
     "text": [
      "Weekday of your birthday: Monday\n",
      "Month of your birthday: June\n",
      "Your current age: 20 years\n"
     ]
    }
   ],
   "source": [
    "from datetime import datetime, date\n",
    "\n",
    "birthday_str = input(\"Enter your birthday (DD/MM/YYYY): \")\n",
    "\n",
    "try:\n",
    "    birthday = datetime.strptime(birthday_str, \"%d/%m/%Y\")\n",
    "    \n",
    "    weekday_name = birthday.strftime(\"%A\")\n",
    "    month_name = birthday.strftime(\"%B\")\n",
    "    \n",
    "    today = date.today()\n",
    "    age = today.year - birthday.year - ((today.month, today.day) < (birthday.month, birthday.day))\n",
    "    \n",
    "    print(f\"Weekday of your birthday: {weekday_name}\")\n",
    "    print(f\"Month of your birthday: {month_name}\")\n",
    "    print(f\"Your current age: {age} years\")\n",
    "\n",
    "except ValueError:\n",
    "    print(\"Incorrect format. Please enter your birthday in DD/MM/YYYY format.\")\n"
   ]
  },
  {
   "cell_type": "markdown",
   "metadata": {},
   "source": [
    "Question 12:"
   ]
  },
  {
   "cell_type": "code",
   "execution_count": 63,
   "metadata": {},
   "outputs": [
    {
     "name": "stdout",
     "output_type": "stream",
     "text": [
      "Original DataFrame:\n",
      "  Customer    Product QuantityList\n",
      "0     John       Beer    2 Bottles\n",
      "1     John       Pork         1 kg\n",
      "2    Marry       Milk      5 boxes\n",
      "3    Marry  Vegetable    2 bunches\n",
      "4    Marry       Pork         3 kg\n",
      "\n",
      "DataFrame after separation:\n",
      "  Customer    Product  Quantity     Unit\n",
      "0     John       Beer         2  Bottles\n",
      "1     John       Pork         1       kg\n",
      "2    Marry       Milk         5    boxes\n",
      "3    Marry  Vegetable         2  bunches\n",
      "4    Marry       Pork         3       kg\n",
      "\n",
      "Customers who bought Pork over 2kg:\n",
      "['Marry']\n"
     ]
    }
   ],
   "source": [
    "import pandas as pd\n",
    "\n",
    "CustomerList = [\"John\", \"John\", \"Marry\", \"Marry\", \"Marry\"]\n",
    "ProductList = [\"Beer\", \"Pork\", \"Milk\", \"Vegetable\", \"Pork\"]\n",
    "QuantityList = [\"2 Bottles\", \"1 kg\", \"5 boxes\", \"2 bunches\", \"3 kg\"]\n",
    "\n",
    "# Create a DataFrame\n",
    "data = pd.DataFrame({\n",
    "    'Customer': CustomerList,\n",
    "    'Product': ProductList,\n",
    "    'QuantityList': QuantityList\n",
    "})\n",
    "\n",
    "print(\"Original DataFrame:\")\n",
    "print(data)\n",
    "\n",
    "# Separate QuantityList into Quantity and Unit\n",
    "data[['Quantity', 'Unit']] = data['QuantityList'].str.split(n=1, expand=True)\n",
    "\n",
    "# Convert Quantity to numeric (assuming it represents quantity in kg for relevant entries)\n",
    "data['Quantity'] = pd.to_numeric(data['Quantity'], errors='coerce')\n",
    "\n",
    "# Drop the original QuantityList column\n",
    "data.drop(columns=['QuantityList'], inplace=True)\n",
    "\n",
    "print(\"\\nDataFrame after separation:\")\n",
    "print(data)\n",
    "\n",
    "# Find customer information who bought Pork over 2kg\n",
    "filtered_data = data[(data['Product'] == 'Pork') & (data['Quantity'] > 2)]\n",
    "customers = filtered_data['Customer'].unique()\n",
    "\n",
    "print(\"\\nCustomers who bought Pork over 2kg:\")\n",
    "print(customers)\n",
    "\n"
   ]
  }
 ],
 "metadata": {
  "kernelspec": {
   "display_name": "Python 3",
   "language": "python",
   "name": "python3"
  },
  "language_info": {
   "codemirror_mode": {
    "name": "ipython",
    "version": 3
   },
   "file_extension": ".py",
   "mimetype": "text/x-python",
   "name": "python",
   "nbconvert_exporter": "python",
   "pygments_lexer": "ipython3",
   "version": "3.11.4"
  }
 },
 "nbformat": 4,
 "nbformat_minor": 2
}
