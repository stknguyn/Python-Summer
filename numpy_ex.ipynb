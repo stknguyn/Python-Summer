{
 "cells": [
  {
   "cell_type": "code",
   "execution_count": 3,
   "metadata": {},
   "outputs": [],
   "source": [
    "import numpy as np"
   ]
  },
  {
   "cell_type": "code",
   "execution_count": 4,
   "metadata": {},
   "outputs": [
    {
     "name": "stdout",
     "output_type": "stream",
     "text": [
      "[0. 0. 0. 0. 0.]\n",
      "[1. 1. 1. 1. 1. 1. 1. 1. 1. 1.]\n",
      "[3.141 3.141 3.141 3.141 3.141]\n",
      "[ 1  2  3  4  5  6  7  8  9 10 11 12 13 14 15 16 17 18 19]\n",
      "[[0 0 0 0 0]\n",
      " [0 0 0 0 0]\n",
      " [0 0 0 0 0]\n",
      " [0 0 0 0 0]\n",
      " [0 0 0 0 0]]\n"
     ]
    }
   ],
   "source": [
    "# 2.1\n",
    "x_0 = np.zeros(5)\n",
    "print(x_0)\n",
    "x_1 = np.ones(10)\n",
    "print(x_1)\n",
    "x_2 = np.full(5, 3.141)\n",
    "print(x_2)\n",
    "x_3 = np.arange(1,20)\n",
    "print(x_3)\n",
    "x_4 = np.full((5,5),0, dtype=int)\n",
    "print(x_4)"
   ]
  },
  {
   "cell_type": "code",
   "execution_count": 6,
   "metadata": {},
   "outputs": [
    {
     "name": "stdout",
     "output_type": "stream",
     "text": [
      "[[[ 0.53238081 -1.40605062 -0.31490276]\n",
      "  [-0.38501386 -0.83252348  1.08516529]\n",
      "  [-0.89009488  1.07998264  1.35736282]]\n",
      "\n",
      " [[-0.70296738  0.45527348  0.42335704]\n",
      "  [-0.36596053  1.50540704  0.06631331]\n",
      "  [ 0.45246978  0.26116716  2.58754463]]\n",
      "\n",
      " [[ 0.50040338  0.77223704 -1.11284184]\n",
      "  [-1.22236359 -2.21918139  0.25731131]\n",
      "  [-0.05248113  0.72241372  2.16749242]]]\n",
      "reshape: \n",
      " [ 0.53238081 -1.40605062 -0.31490276 -0.38501386 -0.83252348  1.08516529\n",
      " -0.89009488  1.07998264  1.35736282 -0.70296738  0.45527348  0.42335704\n",
      " -0.36596053  1.50540704  0.06631331  0.45246978  0.26116716  2.58754463\n",
      "  0.50040338  0.77223704 -1.11284184 -1.22236359 -2.21918139  0.25731131\n",
      " -0.05248113  0.72241372  2.16749242]\n"
     ]
    }
   ],
   "source": [
    "#2.2\n",
    "x = np.random.randn(3, 3, 3)\n",
    "print(x)\n",
    "print('reshape: \\n', x.reshape(27,))"
   ]
  },
  {
   "cell_type": "code",
   "execution_count": 5,
   "metadata": {},
   "outputs": [
    {
     "name": "stdout",
     "output_type": "stream",
     "text": [
      "[ 1.          1.47368421  1.94736842  2.42105263  2.89473684  3.36842105\n",
      "  3.84210526  4.31578947  4.78947368  5.26315789  5.73684211  6.21052632\n",
      "  6.68421053  7.15789474  7.63157895  8.10526316  8.57894737  9.05263158\n",
      "  9.52631579 10.        ]\n"
     ]
    }
   ],
   "source": [
    "#2.3\n",
    "x = np.linspace(1,10,20)\n",
    "print(x)"
   ]
  },
  {
   "cell_type": "code",
   "execution_count": 8,
   "metadata": {},
   "outputs": [
    {
     "name": "stdout",
     "output_type": "stream",
     "text": [
      "[[-0.77682553  0.08467133 -0.14753958 -2.36047846 -1.28640695 -1.16796095]\n",
      " [ 0.02784796  1.40118455 -0.80899855  2.04750051 -1.03760267  0.59607415]\n",
      " [ 0.20255758 -1.25322685  0.83630487  0.27653717  1.03797989 -0.03894158]]\n",
      "[[-0.77682553  0.08467133 -0.14753958 -2.36047846 -1.28640695 -1.16796095]\n",
      " [ 0.02784796  1.40118455 -0.80899855  2.04750051 -1.03760267  0.59607415]\n",
      " [ 1.42308246 -0.04095375  0.58405989  0.06508868  0.77195824  0.40113953]]\n",
      "[[-0.77682553  0.08467133 -0.14753958]\n",
      " [ 0.02784796  1.40118455 -0.80899855]\n",
      " [ 0.20255758 -1.25322685  0.83630487]\n",
      " [ 1.22456126  0.26579974  0.14463966]\n",
      " [ 0.07053732  1.01893915  1.25030553]\n",
      " [ 1.42308246 -0.04095375  0.58405989]]\n",
      "[[-0.77682553  0.08467133 -2.36047846]\n",
      " [ 0.02784796  1.40118455  2.04750051]\n",
      " [ 0.20255758 -1.25322685  0.27653717]\n",
      " [ 1.22456126  0.26579974 -0.16822072]\n",
      " [ 0.07053732  1.01893915 -0.80052273]\n",
      " [ 1.42308246 -0.04095375  0.06508868]]\n",
      "[[ 0.20255758 -1.25322685  0.83630487]\n",
      " [ 1.22456126  0.26579974  0.14463966]]\n",
      "[[ 0.02784796 -0.80899855 -1.03760267]\n",
      " [ 1.22456126  0.14463966  0.33178525]\n",
      " [ 1.42308246  0.58405989  0.77195824]]\n"
     ]
    }
   ],
   "source": [
    "#2.4\n",
    "x = np.random.randn(6,6)\n",
    "print(x[0:3,:])\n",
    "\n",
    "print(x[[0,1,5],:])\n",
    "\n",
    "print(x[:,0:3])\n",
    "\n",
    "print(x[:,[0,1,3]])\n",
    "\n",
    "print(x[[2,3],0:3])\n",
    "\n",
    "print(x[1::2,0::2])"
   ]
  },
  {
   "cell_type": "code",
   "execution_count": 10,
   "metadata": {},
   "outputs": [
    {
     "name": "stdout",
     "output_type": "stream",
     "text": [
      "[[0. 0. 0. 0. 0.]\n",
      " [0. 1. 1. 1. 0.]\n",
      " [0. 1. 1. 1. 0.]\n",
      " [0. 1. 1. 1. 0.]\n",
      " [0. 0. 0. 0. 0.]]\n"
     ]
    }
   ],
   "source": [
    "#2.5\n",
    "x = np.zeros((5,5))\n",
    "x[1:-1:,1:-1:]= 1\n",
    "print(x)"
   ]
  },
  {
   "cell_type": "code",
   "execution_count": 9,
   "metadata": {},
   "outputs": [
    {
     "name": "stdout",
     "output_type": "stream",
     "text": [
      "[[ 1  2  3  4  5]\n",
      " [ 6  7  8  9 10]\n",
      " [11 12 13 14 15]\n",
      " [16 17 18 19 20]\n",
      " [21 22 23 24 25]]\n",
      "------------------------------\n",
      "[[ 9 10]\n",
      " [14 15]\n",
      " [19 20]\n",
      " [24 25]]\n",
      "------------------------------\n",
      "[ 6  7  8  9 10]\n",
      "------------------------------\n",
      "[[11 12 13 14 15]\n",
      " [16 17 18 19 20]]\n",
      "------------------------------\n",
      "[[ 8  9]\n",
      " [13 14]]\n",
      "------------------------------\n",
      "Sum of all numbers: 325\n",
      "------------------------------\n",
      "Sum of each row: [ 15  40  65  90 115]\n",
      "------------------------------\n",
      "All value greater than mean of a: mean a = 13.0\n",
      " value: [14 15 16 17 18 19 20 21 22 23 24 25]\n"
     ]
    }
   ],
   "source": [
    "#2.6\n",
    "a = np.arange(1,26).reshape(5,-1)\n",
    "print(a)\n",
    "print('-'*30)\n",
    "print(a[1::,-2::])\n",
    "print('-'*30)\n",
    "print(a[1,:])\n",
    "print('-'*30)\n",
    "print(a[2:4,:])\n",
    "print('-'*30)\n",
    "print(a[1:3,2:4])\n",
    "print('-'*30)\n",
    "print('Sum of all numbers:', np.sum(a))\n",
    "print('-'*30)\n",
    "print('Sum of each row:', np.sum(a, axis=1))\n",
    "print('-'*30)\n",
    "print(f'All value greater than mean of a: mean a = {a.mean()}\\n value:', a[a>a.mean()])"
   ]
  },
  {
   "cell_type": "code",
   "execution_count": 19,
   "metadata": {},
   "outputs": [
    {
     "name": "stdout",
     "output_type": "stream",
     "text": [
      "[[ 1 -5  6 -1  0]\n",
      " [ 5  2  0  4 -2]\n",
      " [-7 -7  1 -8  4]\n",
      " [-5  7  2 -9  5]\n",
      " [ 5  3  0  2  1]\n",
      " [ 0  6  4  0  2]]\n",
      "Shape: (6, 5)\n",
      "3rd row, 4th col element: 4\n",
      "6th row, 1st col element: 0\n",
      "5th row, 2nd col element: 3\n"
     ]
    }
   ],
   "source": [
    "#2.7\n",
    "X = np.array([[ 1, -5, 6, -1, 0],\n",
    "            [ 5, 2, 0, 4, -2],\n",
    "            [-7, -7, 1, -8, 4],\n",
    "            [-5, 7, 2, -9, 5],\n",
    "            [ 5, 3, 0, 2, 1],\n",
    "            [ 0, 6, 4, 0, 2]])\n",
    "print(X)\n",
    "print('Shape:',X.shape)\n",
    "print('3rd row, 4th col element:',X[1,3])\n",
    "print('6th row, 1st col element:',X[5,0])\n",
    "print('5th row, 2nd col element:',X[4,1])"
   ]
  },
  {
   "cell_type": "code",
   "execution_count": 22,
   "metadata": {},
   "outputs": [
    {
     "name": "stdout",
     "output_type": "stream",
     "text": [
      "Location of min value: 6 value: [np.float64(-2.426679243393074)]\n"
     ]
    }
   ],
   "source": [
    "#2.8\n",
    "np.random.seed(123)\n",
    "b = np.random.randn(10)\n",
    "b\n",
    "print('Location of min value:',np.argmin(b),\"value:\",[b[np.argmin(b)]])"
   ]
  },
  {
   "cell_type": "code",
   "execution_count": 27,
   "metadata": {},
   "outputs": [
    {
     "name": "stdout",
     "output_type": "stream",
     "text": [
      "[[0.60069857 0.86586446 0.98352161]\n",
      " [0.07936579 0.42834727 0.20454286]\n",
      " [0.45063649 0.54776357 0.09332671]\n",
      " [0.29686078 0.92758424 0.56900373]\n",
      " [0.457412   0.75352599 0.74186215]\n",
      " [0.04857903 0.7086974  0.83924335]\n",
      " [0.16593788 0.78099794 0.28653662]\n",
      " [0.30646975 0.66526147 0.11139217]\n",
      " [0.66487245 0.88785679 0.69631127]\n",
      " [0.44032788 0.43821438 0.7650961 ]]\n",
      "Closest to 0.5: [[0.457412   0.75352599 0.74186215]\n",
      " [0.45063649 0.54776357 0.09332671]\n",
      " [0.29686078 0.92758424 0.56900373]]\n",
      "Selected elements: [ 3  9 12]\n"
     ]
    }
   ],
   "source": [
    "#2.9\n",
    "x = np.random.rand(10,3)\n",
    "print(x)\n",
    "closest_to_0_5 = x[np.abs(x-0.5).argmin(axis=0)]\n",
    "print('Closest to 0.5:', closest_to_0_5)\n",
    "selected_elements = a[[0, 1, 2], [2, 3, 1]]\n",
    "print('Selected elements:', selected_elements)"
   ]
  },
  {
   "cell_type": "code",
   "execution_count": 29,
   "metadata": {},
   "outputs": [
    {
     "name": "stdout",
     "output_type": "stream",
     "text": [
      "[[45, 61, 65, 44, 1, 18], [7, 4, 58, 58, 66, 78], [16, 95, 39, 1, 90, 33], [40, 41, 79, 67, 40, 86]]\n",
      "Min value for rows: [ 1  4  1 40]\n",
      "Min value for columns: [ 7  4 39  1  1 18]\n",
      "Max value for rows: [65 78 95 86]\n",
      "Max value for columns: [45 95 79 67 90 86]\n",
      "Min value of ARRAY: 1\n",
      "Max value of ARRAY: 95\n",
      "Mean value for rows: [39.         45.16666667 45.66666667 58.83333333]\n",
      "Mean value for columns: [27.   50.25 60.25 42.5  49.25 53.75]\n",
      "Mean value of ARRAY: 47.166666666666664\n",
      "StDeviation value for rows: [22.75228926 28.84681766 35.30659366 19.31680328]\n",
      "StDeviation value for columns: [15.92168333 32.94977238 14.41136704 25.32291452 32.99526481 28.88230427]\n",
      "StDeviation value of ARRAY: 28.18933998675543\n",
      "Variance value for rows: [ 517.66666667  832.13888889 1246.55555556  373.13888889]\n",
      "Variance value for columns: [ 253.5    1085.6875  207.6875  641.25   1088.6875  834.1875]\n",
      "Variance value of ARRAY: 794.6388888888888\n"
     ]
    }
   ],
   "source": [
    "#2.11\n",
    "np_array = [[45, 61, 65, 44, 1, 18],\n",
    "        [7, 4, 58, 58, 66, 78],\n",
    "        [16, 95, 39, 1, 90, 33],\n",
    "        [40, 41, 79, 67, 40, 86]]\n",
    "print(np_array)\n",
    "print('Min value for rows:', np.min(np_array, axis=1))\n",
    "print('Min value for columns:', np.min(np_array, axis=0))\n",
    "print('Max value for rows:', np.max(np_array, axis=1))\n",
    "print('Max value for columns:', np.max(np_array, axis=0))\n",
    "print('Min value of ARRAY:', np.min(np_array))\n",
    "print('Max value of ARRAY:', np.max(np_array))\n",
    "print('Mean value for rows:', np.mean(np_array, axis=1))\n",
    "print('Mean value for columns:', np.mean(np_array, axis=0))\n",
    "print('Mean value of ARRAY:', np.mean(np_array))\n",
    "print('StDeviation value for rows:', np.std(np_array, axis=1))\n",
    "print('StDeviation value for columns:', np.std(np_array, axis=0))\n",
    "print('StDeviation value of ARRAY:', np.std(np_array))\n",
    "print('Variance value for rows:', np.var(np_array, axis=1))\n",
    "print('Variance value for columns:', np.var(np_array, axis=0))\n",
    "print('Variance value of ARRAY:', np.var(np_array))"
   ]
  },
  {
   "cell_type": "code",
   "execution_count": 31,
   "metadata": {},
   "outputs": [
    {
     "name": "stdout",
     "output_type": "stream",
     "text": [
      "[ True False  True]\n"
     ]
    }
   ],
   "source": [
    "#2.12\n",
    "def compare_arrays(arr1, arr2):\n",
    "    if arr1.shape != arr2.shape:\n",
    "        raise ValueError(\"Both arrays must have the same shape\")\n",
    "    return np.where(arr1 == arr2, True, False)\n",
    "\n",
    "arr1 = np.array([10, 20, 30])\n",
    "arr2 = np.array([10, 30, 30])\n",
    "result = compare_arrays(arr1, arr2)\n",
    "print(result)  "
   ]
  },
  {
   "cell_type": "code",
   "execution_count": 32,
   "metadata": {},
   "outputs": [
    {
     "name": "stdout",
     "output_type": "stream",
     "text": [
      "[0 2]\n"
     ]
    }
   ],
   "source": [
    "#2.13\n",
    "def find_equal_indices(arr1, arr2):\n",
    "    if arr1.shape != arr2.shape:\n",
    "        raise ValueError(\"Both arrays must have the same shape\")\n",
    "    return np.where(arr1 == arr2)[0]\n",
    "\n",
    "# Example usage:\n",
    "arr1 = np.array([10, 20, 30])\n",
    "arr2 = np.array([10, 30, 30])\n",
    "result = find_equal_indices(arr1, arr2)\n",
    "print(result)  # Output: [0 2]"
   ]
  },
  {
   "cell_type": "code",
   "execution_count": 36,
   "metadata": {},
   "outputs": [
    {
     "name": "stdout",
     "output_type": "stream",
     "text": [
      "[2 2 3]\n",
      "[1 2 2]\n"
     ]
    }
   ],
   "source": [
    "#2.14\n",
    "def clip_values(arr, min_val=None, max_val=None):\n",
    "    # Create a copy of the array to avoid modifying the input array\n",
    "    clipped_arr = np.copy(arr)\n",
    "    \n",
    "    # Apply clipping based on provided min_val and max_val\n",
    "    if min_val is not None:\n",
    "        clipped_arr = np.maximum(clipped_arr, min_val)\n",
    "    if max_val is not None:\n",
    "        clipped_arr = np.minimum(clipped_arr, max_val)\n",
    "    \n",
    "    return clipped_arr\n",
    "\n",
    "# Example usage:\n",
    "arr1 = np.array([1, 2, 3])\n",
    "result1 = clip_values(arr1, min_val=2)\n",
    "print(result1)  # Output: [2 2 3]\n",
    "\n",
    "arr2 = np.array([1, 2, 3])\n",
    "result2 = clip_values(arr2, max_val=2)\n",
    "print(result2)  # Output: [1 2 2]"
   ]
  },
  {
   "cell_type": "code",
   "execution_count": 34,
   "metadata": {},
   "outputs": [
    {
     "name": "stdout",
     "output_type": "stream",
     "text": [
      "Solution x: [ 1.  2. -1.]\n"
     ]
    }
   ],
   "source": [
    "#2.15\n",
    "A = np.array([[2, -1, 1],\n",
    "            [3, 3, 9],\n",
    "            [3, 3, 5]])\n",
    "\n",
    "# Define the right-hand side vector b\n",
    "b = np.array([-1, 0, 4])\n",
    "\n",
    "# Solve the linear system\n",
    "x = np.linalg.solve(A, b)\n",
    "\n",
    "print(\"Solution x:\", x)"
   ]
  },
  {
   "cell_type": "code",
   "execution_count": 37,
   "metadata": {},
   "outputs": [
    {
     "name": "stdout",
     "output_type": "stream",
     "text": [
      "Difference vector d: [0. 0. 0.]\n",
      "Euclidean norm of the difference vector |d|: 0.0\n"
     ]
    }
   ],
   "source": [
    "#2.16\n",
    "# Define the coefficient matrix A\n",
    "A = np.array([[2, -1, 1],\n",
    "            [3, 3, 9],\n",
    "            [3, 3, 5]])\n",
    "\n",
    "# Define the right-hand side vector b\n",
    "b = np.array([-1, 0, 4])\n",
    "\n",
    "# Solve the linear system\n",
    "x = np.linalg.solve(A, b)\n",
    "\n",
    "# Calculate the difference vector d = Ax - b\n",
    "d = np.dot(A, x) - b\n",
    "\n",
    "# Calculate the Euclidean norm of the difference vector\n",
    "norm_d = np.linalg.norm(d)\n",
    "\n",
    "print(\"Difference vector d:\", d)\n",
    "print(\"Euclidean norm of the difference vector |d|:\", norm_d)"
   ]
  },
  {
   "cell_type": "code",
   "execution_count": 38,
   "metadata": {},
   "outputs": [
    {
     "name": "stdout",
     "output_type": "stream",
     "text": [
      "[[ 1  2  3]\n",
      " [ 6  9 12]\n",
      " [ 7  8  9]]\n"
     ]
    }
   ],
   "source": [
    "#2.17\n",
    "\n",
    "def add_row(A, s, i, j):\n",
    "    A_new = np.copy(A)\n",
    "    A_new[j] += s * A_new[i]\n",
    "    return A_new\n",
    "# Example usage:\n",
    "A = np.array([[1, 2, 3],\n",
    "            [4, 5, 6],\n",
    "            [7, 8, 9]])\n",
    "\n",
    "s = 2\n",
    "i = 0\n",
    "j = 1\n",
    "\n",
    "result = add_row(A, s, i, j)\n",
    "print(result)"
   ]
  },
  {
   "cell_type": "code",
   "execution_count": 39,
   "metadata": {},
   "outputs": [
    {
     "name": "stdout",
     "output_type": "stream",
     "text": [
      "Inverse of A:\n",
      " [[ 0.  0.  1.]\n",
      " [-2.  1.  3.]\n",
      " [ 3. -1. -5.]]\n"
     ]
    }
   ],
   "source": [
    "#2.18\n",
    "def inverse_matrix(A):\n",
    "    n = A.shape[0]\n",
    "    augmented_matrix = np.hstack((A, np.eye(n)))\n",
    "    \n",
    "    for i in range(n):\n",
    "        factor = augmented_matrix[i, i]\n",
    "        augmented_matrix[i] = augmented_matrix[i] / factor\n",
    "        \n",
    "        for j in range(n):\n",
    "            if i != j:\n",
    "                factor = augmented_matrix[j, i]\n",
    "                augmented_matrix[j] = augmented_matrix[j] - factor * augmented_matrix[i]\n",
    "    \n",
    "    inverse_A = augmented_matrix[:, n:]\n",
    "    \n",
    "    return inverse_A\n",
    "\n",
    "# Example usage:\n",
    "A = np.array([[2, 1, 1],\n",
    "              [1, 3, 2],\n",
    "              [1, 0, 0]])\n",
    "\n",
    "inverse_A = inverse_matrix(A)\n",
    "print(\"Inverse of A:\\n\", inverse_A)"
   ]
  },
  {
   "cell_type": "code",
   "execution_count": 43,
   "metadata": {},
   "outputs": [
    {
     "name": "stdout",
     "output_type": "stream",
     "text": [
      "Matrix Q:\n",
      " [[-0.12309149  0.90453403  0.40824829]\n",
      " [-0.49236596  0.30151134 -0.81649658]\n",
      " [-0.86164044 -0.30151134  0.40824829]]\n",
      "Matrix R:\n",
      " [[-8.12403840e+00 -9.60113630e+00 -1.10782342e+01]\n",
      " [ 0.00000000e+00  9.04534034e-01  1.80906807e+00]\n",
      " [ 0.00000000e+00  0.00000000e+00 -8.88178420e-16]]\n"
     ]
    }
   ],
   "source": [
    "#2.19\n",
    "def qr_decomposition(matrix):\n",
    "    Q, R = np.linalg.qr(matrix)\n",
    "    return Q, R\n",
    "\n",
    "# Example usage:\n",
    "A = np.array([[1, 2, 3],\n",
    "              [4, 5, 6],\n",
    "              [7, 8, 9]])\n",
    "\n",
    "Q, R = qr_decomposition(A)\n",
    "print(\"Matrix Q:\\n\", Q)\n",
    "print(\"Matrix R:\\n\", R)"
   ]
  },
  {
   "cell_type": "code",
   "execution_count": 44,
   "metadata": {},
   "outputs": [
    {
     "name": "stdout",
     "output_type": "stream",
     "text": [
      "Sum of diagonal elements: 15\n"
     ]
    }
   ],
   "source": [
    "#2.20\n",
    "def sum_of_diagonal_elements(matrix):\n",
    "    return np.trace(matrix)\n",
    "\n",
    "# Example usage:\n",
    "A = np.array([[1, 2, 3],\n",
    "              [4, 5, 6],\n",
    "              [7, 8, 9]])\n",
    "\n",
    "sum_diagonal = sum_of_diagonal_elements(A)\n",
    "print(\"Sum of diagonal elements:\", sum_diagonal)"
   ]
  },
  {
   "cell_type": "code",
   "execution_count": 45,
   "metadata": {},
   "outputs": [
    {
     "name": "stdout",
     "output_type": "stream",
     "text": [
      "Eigenvalues:\n",
      " [ 1.61168440e+01 -1.11684397e+00 -1.30367773e-15]\n",
      "Right eigenvectors:\n",
      " [[-0.23197069 -0.78583024  0.40824829]\n",
      " [-0.52532209 -0.08675134 -0.81649658]\n",
      " [-0.8186735   0.61232756  0.40824829]]\n"
     ]
    }
   ],
   "source": [
    "#2.21\n",
    "def compute_eigenvalues_and_eigenvectors(matrix):\n",
    "    eigenvalues, eigenvectors = np.linalg.eig(matrix)\n",
    "    return eigenvalues, eigenvectors\n",
    "\n",
    "# Example usage:\n",
    "A = np.array([[1, 2, 3],\n",
    "              [4, 5, 6],\n",
    "              [7, 8, 9]])\n",
    "\n",
    "eigenvalues, eigenvectors = compute_eigenvalues_and_eigenvectors(A)\n",
    "print(\"Eigenvalues:\\n\", eigenvalues)\n",
    "print(\"Right eigenvectors:\\n\", eigenvectors)"
   ]
  }
 ],
 "metadata": {
  "kernelspec": {
   "display_name": "Python 3",
   "language": "python",
   "name": "python3"
  },
  "language_info": {
   "codemirror_mode": {
    "name": "ipython",
    "version": 3
   },
   "file_extension": ".py",
   "mimetype": "text/x-python",
   "name": "python",
   "nbconvert_exporter": "python",
   "pygments_lexer": "ipython3",
   "version": "3.12.4"
  }
 },
 "nbformat": 4,
 "nbformat_minor": 2
}
